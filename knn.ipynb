{
 "cells": [
  {
   "cell_type": "code",
   "execution_count": 15,
   "id": "initial_id",
   "metadata": {
    "collapsed": true,
    "ExecuteTime": {
     "end_time": "2024-04-04T02:40:52.541167Z",
     "start_time": "2024-04-04T02:40:52.539628Z"
    }
   },
   "outputs": [],
   "source": [
    "import copy\n",
    "\n",
    "import numpy as np\n",
    "from sklearn.neighbors import NearestNeighbors\n",
    "from scipy.spatial.distance import cdist\n",
    "\n",
    "class KNNClassifier:\n",
    "    metric_type = 'minkowski'\n",
    "    p = None\n",
    "    kernel = None\n",
    "    X_train = None\n",
    "    y_train = None\n",
    "    annoy_i = None\n",
    "    n_trees = 10\n",
    "    \n",
    "    def __init__(self, kernel=lambda x: 1 - np.abs(x), metric='minkowski', p=2.0):\n",
    "        self.kernel = kernel\n",
    "        self.metric_type = metric\n",
    "        self.p = p\n",
    "        \n",
    "    def get_distances(self):\n",
    "        dists = list()\n",
    "        \n",
    "        for i in range(len(self.X_vals)):\n",
    "            for j in range(i + 1, len(self.X_vals)):\n",
    "                dists.append(self.metric(self.X_vals[i], self.X_vals[j]))\n",
    "                \n",
    "        return np.asarray(dists)\n",
    "        \n",
    "    def metric(self, a, b):\n",
    "        if self.metric_type == 'minkowski':\n",
    "            return np.sum(np.abs(a - b) ** self.p) ** (1.0 / self.p)\n",
    "        if self.metric_type == 'cosine':\n",
    "            return np.dot(a, b) / (np.linalg.norm(a) * np.linalg.norm(b))\n",
    "        if self.metric_type == 'chebyshev':\n",
    "            return np.max(np.abs(a - b))\n",
    "        \n",
    "        raise AttributeError(f'no metric with name {self.metric_type}')\n",
    "    \n",
    "    def fit(self, X, y):\n",
    "        self.X_vals = X.values\n",
    "        self.y_vals = y.values\n",
    "        self.X_train = X\n",
    "        self.y_train = y\n",
    "        self.counter_pattern = dict()\n",
    "        \n",
    "        for label in np.unique(self.y_train):\n",
    "            self.counter_pattern[label] = 0\n",
    "    \n",
    "    def base_predict(self, X, neighboubrs_mapper, element_processor, double_compute=False):\n",
    "        nn = NearestNeighbors(\n",
    "            metric=self.metric_type,\n",
    "            p=self.p\n",
    "        )\n",
    "    \n",
    "        nn.fit(self.X_train, self.y_train)\n",
    "        dists, neighs = neighboubrs_mapper(nn)(X)\n",
    "        dists_X, neighs_X = dists, neighs\n",
    "        if double_compute:\n",
    "            dists_X, neighs_X = neighboubrs_mapper(nn)(self.X_train)\n",
    "        \n",
    "        y_test = list()\n",
    "        \n",
    "        for i in range(len(X)):\n",
    "            pred = element_processor(dists[i], neighs[i], dists_X[i], neighs_X[i])\n",
    "            y_test.append(pred)\n",
    "            \n",
    "        return np.asarray(y_test)\n",
    "    \n",
    "    def __constant_window_processor(self, dists, neighs, ignored1, ignored2):\n",
    "        tmp_counter = copy.deepcopy(self.counter_pattern)\n",
    "            \n",
    "        # no neigh\n",
    "        if len(dists) == 0:\n",
    "            return None, None\n",
    "            \n",
    "        for (dist, neigh) in zip(dists, neighs):\n",
    "            n_type = self.y_vals[neigh]\n",
    "            \n",
    "            tmp_counter[n_type] += self.kernel(dist / h)\n",
    "\n",
    "        pred = max(tmp_counter, key=tmp_counter.get)\n",
    "        \n",
    "        return pred\n",
    "    \n",
    "    def __float_window_processor(self, dists, neighs, ignored1, ignored2):\n",
    "        tmp_counter = copy.deepcopy(self.counter_pattern)\n",
    "        \n",
    "        for (dist, neigh) in zip(dists[:-2], neighs[:-2]):\n",
    "            n_type = self.y_vals[neigh]\n",
    "            tmp_counter[n_type] += self.kernel(dist / dists[-1])\n",
    "            \n",
    "        pred = max(tmp_counter, key=tmp_counter.get)\n",
    "        \n",
    "        return pred\n",
    "    \n",
    "    def __lowess_window_processor(self, dists, neighs, dists_X, neighs_X):\n",
    "        tmp_counter = copy.deepcopy(self.counter_pattern)\n",
    "        \n",
    "        for (dist, neigh) in zip(dists[:-3], neighs[:-3]):\n",
    "            n_type = self.y_vals[neigh]\n",
    "            tmp_counter[n_type] += self.kernel(n_type - self.__float_window_processor(dists_X[1:], neighs_X[1:], None, None))\n",
    "            \n",
    "        pred = max(tmp_counter, key=tmp_counter.get)\n",
    "        \n",
    "        return pred  \n",
    "    \n",
    "    def predict_constant_window(self, X, h):\n",
    "        return self.base_predict(X, lambda nn: lambda x: nn.radius_neighbors(X=x, radius=h), self.__constant_window_processor)\n",
    "    \n",
    "    def predict_float_window(self, X, k):\n",
    "        return self.base_predict(X, lambda nn: lambda x: nn.kneighbors(X=x, n_neighbors=k), self.__float_window_processor)\n",
    "    def predict_float_lowess_window(self, X, k):\n",
    "        return self.base_predict(X, lambda nn: lambda x: nn.kneighbors(X=x, n_neighbors=k + 2), self.__lowess_window_processor)\n"
   ]
  },
  {
   "cell_type": "code",
   "execution_count": 13,
   "outputs": [],
   "source": [
    "def base_kernel_constructor(a, b, c):\n",
    "    return lambda x: c * (1 - np.abs(a) ** a) ** b\n",
    "\n",
    "default_kernel = base_kernel_constructor(1, 1, 1)\n",
    "\n",
    "def gaussian_kernel(x):\n",
    "    return 1 / np.sqrt(2 * np.pi) * np.exp(-0.5 * x**2)\n",
    "\n",
    "epanechnikov_kernel = base_kernel_constructor(0.75, 2, 1)\n",
    "\n",
    "def cosine_kernel(x):\n",
    "    return np.pi / 4 * np.cos(np.pi / 2 * x)\n",
    "\n",
    "def uniform_kernel(ignored):\n",
    "    return 0.5\n",
    "\n",
    "triquadratic_kernel = base_kernel_constructor(35.0/32, 2, 3)\n"
   ],
   "metadata": {
    "collapsed": false,
    "ExecuteTime": {
     "end_time": "2024-04-04T02:40:33.160516Z",
     "start_time": "2024-04-04T02:40:33.153904Z"
    }
   },
   "id": "30e28aece38b0b95"
  },
  {
   "cell_type": "code",
   "execution_count": null,
   "outputs": [],
   "source": [
    "import pandas as pd\n",
    "\n",
    "from sklearn.model_selection import train_test_split\n",
    "from sklearn.neighbors import RadiusNeighborsClassifier, KNeighborsClassifier\n",
    "from sklearn.metrics import mean_squared_error, accuracy_score\n",
    "\n",
    "df = pd.read_csv('phone_infos.csv')\n",
    "X = df.drop(columns=['price_range'])\n",
    "y = df['price_range']\n",
    "\n",
    "X_train, X_test, y_train, y_test = train_test_split(X, y, test_size=0.4, random_state=153)\n",
    "\n",
    "X_test"
   ],
   "metadata": {
    "collapsed": false
   },
   "id": "fe02795c5794fe94"
  },
  {
   "cell_type": "code",
   "execution_count": null,
   "outputs": [],
   "source": [
    "h = 1450\n",
    "\n",
    "knn = KNNClassifier(metric='minkowski', p=10)\n",
    "knn.fit(X_train, y_train)\n",
    "y_test1, y_test_proba1 = knn.predict_constant_window(X_test, h)\n",
    "\n",
    "knn_sklearn = RadiusNeighborsClassifier(radius=h)\n",
    "knn_sklearn.fit(X_train, y_train)\n",
    "y_test2 = knn_sklearn.predict(X_test)\n",
    "y_test_proba2 = knn_sklearn.predict_proba(X_test)\n",
    "\n",
    "print(\"ours\", accuracy_score(y_test.values, y_test1))\n",
    "print(\"theirs\", accuracy_score(y_test, y_test2))\n",
    "print(\"ours vs theirs\", accuracy_score(y_test1, y_test2))"
   ],
   "metadata": {
    "collapsed": false
   },
   "id": "b3c161cd0383abc"
  },
  {
   "cell_type": "code",
   "execution_count": null,
   "outputs": [],
   "source": [
    "d = knn.get_distances()"
   ],
   "metadata": {
    "collapsed": false
   },
   "id": "4bc8300bf12875f6"
  },
  {
   "cell_type": "code",
   "execution_count": null,
   "outputs": [],
   "source": [
    "d.mean()"
   ],
   "metadata": {
    "collapsed": false
   },
   "id": "dc81dcdf6a3d2492"
  },
  {
   "cell_type": "code",
   "execution_count": null,
   "outputs": [],
   "source": [
    "k = 5\n",
    "\n",
    "knn = KNNClassifier(kernel=epanechnikov_kernel)\n",
    "knn.fit(X_train, y_train)\n",
    "y_test1, y_test_proba1 = knn.predict_float_window(X_test, k)\n",
    "\n",
    "knn_sklearn = KNeighborsClassifier(n_neighbors=k)\n",
    "knn_sklearn.fit(X_train, y_train)\n",
    "y_test2 = knn_sklearn.predict(X_test)\n",
    "y_test3 = knn_sklearn.predict_proba(X_test)\n",
    "\n",
    "print(\"ours\", accuracy_score(y_test.values, y_test1))\n",
    "print(\"theirs\", accuracy_score(y_test, y_test2))\n",
    "print(\"ours vs theirs\", accuracy_score(y_test1, y_test2))\n",
    "print(\"ours vs theirs 2\", mean_squared_error(y_test_proba1, y_test3))"
   ],
   "metadata": {
    "collapsed": false
   },
   "id": "300e1a1ae5fb1954"
  },
  {
   "cell_type": "code",
   "execution_count": null,
   "outputs": [],
   "source": [
    "d = knn.get_distances()"
   ],
   "metadata": {
    "collapsed": false
   },
   "id": "142d145e01ead16a"
  },
  {
   "cell_type": "code",
   "execution_count": null,
   "outputs": [],
   "source": [
    "d.mean()"
   ],
   "metadata": {
    "collapsed": false
   },
   "id": "9c24d1dff6b83d1a"
  },
  {
   "cell_type": "code",
   "execution_count": null,
   "outputs": [],
   "source": [
    "import optuna\n",
    "\n",
    "def objective_const(trial: optuna.trial.Trial):\n",
    "    metric = trial.suggest_categorical('metric', ['minkowski', 'cosine', 'chebyshev'])\n",
    "    p = None\n",
    "    \n",
    "    if metric == 'minkowski':\n",
    "        p = trial.suggest_float('p', 1, 10, log=True)\n",
    "        \n",
    "    h = trial.suggest_float('h', 1200, 4000, log=True)\n",
    "    kernel = trial.suggest_categorical('kernel', ['default', 'epanechnikov', 'gaussian', 'cosine', 'uniform', 'triquadratic'])\n",
    "    \n",
    "    knn = KNNClassifier(\n",
    "        metric=metric,\n",
    "        p=p,\n",
    "        kernel=globals()[f'{kernel}_kernel']\n",
    "    )\n",
    "    knn.fit(X_train, y_train)\n",
    "    y_pred, _ = knn.predict_constant_window(X_test, h)\n",
    "    \n",
    "    return 1 - accuracy_score(y_test, y_pred)\n",
    "\n",
    "study = optuna.create_study()  \n",
    "study.optimize(objective_const, n_jobs=-1, n_trials=1000, show_progress_bar=True)\n",
    "study.best_params"
   ],
   "metadata": {
    "collapsed": false
   },
   "id": "205eff37511354b4"
  },
  {
   "cell_type": "code",
   "execution_count": null,
   "outputs": [],
   "source": [
    "import optuna\n",
    "\n",
    "def objective_float(trial: optuna.trial.Trial):\n",
    "    metric = trial.suggest_categorical('metric', ['minkowski', 'cosine', 'chebyshev'])\n",
    "    p = None\n",
    "    \n",
    "    if metric == 'minkowski':\n",
    "        p = trial.suggest_float('p', 1, 10, log=True)\n",
    "        \n",
    "    k = trial.suggest_int('k', 1, len(X_train.values) - 1, log=True)\n",
    "    kernel = trial.suggest_categorical('kernel', ['default', 'epanechnikov', 'gaussian', 'cosine', 'uniform', 'triquadratic'])\n",
    "    \n",
    "    knn = KNNClassifier(\n",
    "        metric=metric,\n",
    "        p=p,\n",
    "        kernel=globals()[f'{kernel}_kernel']\n",
    "    )\n",
    "    knn.fit(X_train, y_train)\n",
    "    y_pred, _ = knn.predict_float_window(X_test, k)\n",
    "    \n",
    "    return 1 - accuracy_score(y_test, y_pred)\n",
    "\n",
    "study = optuna.create_study()  \n",
    "study.optimize(objective_float, n_jobs=-1, n_trials=1000, show_progress_bar=True)  \n",
    "study.best_params\n"
   ],
   "metadata": {
    "collapsed": false
   },
   "id": "b4236dc232efe85"
  },
  {
   "cell_type": "code",
   "execution_count": null,
   "outputs": [],
   "source": [
    "import optuna\n",
    "\n",
    "def objective_float_sklearn(trial: optuna.trial.Trial):\n",
    "    metric = trial.suggest_categorical('metric', ['minkowski', 'cosine', 'chebyshev'])\n",
    "    p = None\n",
    "    \n",
    "    if metric == 'minkowski':\n",
    "        p = trial.suggest_float('p', 1, 10, log=True)\n",
    "        \n",
    "    k = trial.suggest_int('k', 1, len(X_train.values) - 1, log=True)\n",
    "    \n",
    "    kernel = trial.suggest_categorical('kernel', ['default', 'epanechnikov', 'gaussian', 'cosine', 'uniform', 'triquadratic'])\n",
    "    kernel_func = globals()[f'{kernel}_kernel']\n",
    "    \n",
    "    def weight(dists):\n",
    "        weights = list()\n",
    "        for d in dists:\n",
    "            weights.append(np.asarray([kernel_func(dist / d[-1]) for dist in d]))\n",
    "            \n",
    "        return np.asarray(weights)\n",
    "    \n",
    "    knn = KNeighborsClassifier(\n",
    "        metric=metric,\n",
    "        p=p,\n",
    "        weights=weight,\n",
    "        n_neighbors=k\n",
    "    )\n",
    "    knn.fit(X_train, y_train)\n",
    "    y_pred = knn.predict(X_test)\n",
    "    \n",
    "    print(y_pred)\n",
    "    \n",
    "    return 1 - accuracy_score(y_test.values, y_pred)\n",
    "\n",
    "study = optuna.create_study()  \n",
    "study.optimize(objective_float_sklearn, n_jobs=1, n_trials=1000, show_progress_bar=True)  \n",
    "study.best_params\n"
   ],
   "metadata": {
    "collapsed": false
   },
   "id": "d77c139be07f6a69"
  },
  {
   "cell_type": "code",
   "execution_count": null,
   "outputs": [],
   "source": [
    "import optuna\n",
    "\n",
    "def objective_const_sklearn(trial: optuna.trial.Trial):\n",
    "    metric = trial.suggest_categorical('metric', ['minkowski', 'cosine', 'chebyshev'])\n",
    "    p = None\n",
    "    \n",
    "    if metric == 'minkowski':\n",
    "        p = trial.suggest_float('p', 1, 10, log=True)\n",
    "        \n",
    "    h = trial.suggest_float('h', 1200, 4000, log=True)\n",
    "    kernel = trial.suggest_categorical('kernel', ['default', 'epanechnikov', 'gaussian', 'cosine', 'uniform', 'triquadratic'])\n",
    "    kernel_func = globals()[f'{kernel}_kernel']\n",
    "\n",
    "    def weight(dists):        \n",
    "        weigths = list()\n",
    "        for dist in dists:\n",
    "            print(dist)\n",
    "            weigths.append(kernel_func(dist / h))\n",
    "            \n",
    "        return np.asarray(weigths)\n",
    "    \n",
    "    knn = RadiusNeighborsClassifier(\n",
    "        metric=metric,\n",
    "        p=p,\n",
    "        weights=weight,\n",
    "        radius=h\n",
    "    )\n",
    "    knn.fit(X_train, y_train)\n",
    "    y_pred = knn.predict(X_test)\n",
    "    \n",
    "    return 1 - accuracy_score(y_test, y_pred)\n",
    "\n",
    "study = optuna.create_study()  \n",
    "study.optimize(objective_const_sklearn, n_jobs=1, n_trials=1000, show_progress_bar=True)\n",
    "study.best_params\n"
   ],
   "metadata": {
    "collapsed": false
   },
   "id": "5437be1a55c4d6ec"
  },
  {
   "cell_type": "code",
   "execution_count": 19,
   "outputs": [
    {
     "data": {
      "text/plain": "0.008750000000000036"
     },
     "execution_count": 19,
     "metadata": {},
     "output_type": "execute_result"
    }
   ],
   "source": [
    "nn = KNNClassifier(\n",
    "    metric='chebyshev',\n",
    "    kernel=cosine_kernel\n",
    ")\n",
    "nn.fit(X_train, y_train)\n",
    "\n",
    "k = 25\n",
    "\n",
    "pred = nn.predict_float_lowess_window(X_test, k)\n",
    "accuracy_score(y_test, pred)"
   ],
   "metadata": {
    "collapsed": false,
    "ExecuteTime": {
     "end_time": "2024-04-04T02:41:43.309081Z",
     "start_time": "2024-04-04T02:41:42.618347Z"
    }
   },
   "id": "560e58212146c6f0"
  },
  {
   "cell_type": "code",
   "execution_count": null,
   "outputs": [],
   "source": [],
   "metadata": {
    "collapsed": false
   },
   "id": "a6696f30588c2133"
  }
 ],
 "metadata": {
  "kernelspec": {
   "display_name": "Python 3",
   "language": "python",
   "name": "python3"
  },
  "language_info": {
   "codemirror_mode": {
    "name": "ipython",
    "version": 2
   },
   "file_extension": ".py",
   "mimetype": "text/x-python",
   "name": "python",
   "nbconvert_exporter": "python",
   "pygments_lexer": "ipython2",
   "version": "2.7.6"
  }
 },
 "nbformat": 4,
 "nbformat_minor": 5
}
